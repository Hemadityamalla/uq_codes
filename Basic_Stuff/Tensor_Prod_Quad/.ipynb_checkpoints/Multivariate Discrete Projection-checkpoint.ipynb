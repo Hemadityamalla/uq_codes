{
 "cells": [
  {
   "cell_type": "markdown",
   "metadata": {},
   "source": [
    "#### Description\n",
    "**Given**: $f(x): \\mathbb{R}^d \\rightarrow \\mathbb{R}$, where $d \\geq 1$ (dimension).  \n",
    "**To find**: $f_N(x): \\mathbb{R}^d \\rightarrow \\mathbb{R}$,\n",
    "where $N \\geq 0$ is the highest order of the approximating multivariate polynomial basis used.\n",
    "\n",
    "\n",
    "$$f_N(x) = \\sum_{|\\mathbf{i}|\\leq N} \\hat{f}_{\\mathbf{i}}\\Phi_{\\mathbf{i}}(x) = \\sum_{ip = 1}^P \\hat{f}_{ip}\\Phi_{ip}(x)$$\n",
    "\n",
    "In the above expansion, $\\mathbf{i}$ is the multi-index notation ($\\mathbf{i} = (i_1, i_2,\\ldots,i_d) \\in \\mathbb{N}_0^d$). The central part and the right part of the above equation show the conversion of multi-index notation to a graded lexicographic notation. This has been used interchangeably in the code.\n",
    "\n",
    "$\\hat{f}_\\mathbf{i}$ is approximated using the tensor product quadrature (given a quadrature rule for each dimension 'd') as follows:\n",
    "\n",
    "$$\\hat{f}_\\mathbf{i} = \\hat{f}_{ip} = \\sum_{{i_1} = 1}^q\\sum_{{i_2} = 1}^q\\ldots\\sum_{{i_d} = 1}^q f(x_{\\mathbf{i}})\\big(\\Pi_{j = {i_1}}^{i_d}w_j\\big) = \\sum_{evalPts = 1}^{q^d}f(x_{evalPts})\\Pi_{j=1}^dw_j$$\n",
    "\n",
    "---\n",
    "## Start of Script"
   ]
  },
  {
   "cell_type": "code",
   "execution_count": 22,
   "metadata": {
    "collapsed": true
   },
   "outputs": [],
   "source": [
    "clear; clc; format long;"
   ]
  },
  {
   "cell_type": "markdown",
   "metadata": {},
   "source": [
    "#### Given below is the function that we want to approximate. Input to the function is a vector x of size (Number of Points * dimension)\n",
    "##### In this case we have used a dimension of 2 and the function $f(x,y) = xy^2$. This function has been chosen to test the exactness of the quadrature rule. The function that has been commented out is the $C^{\\infty}$ oscillatory Genz function. The problem is that I do not get spectral convergence when I approximate this $C^{\\infty}$ function."
   ]
  },
  {
   "cell_type": "code",
   "execution_count": 23,
   "metadata": {
    "collapsed": true
   },
   "outputs": [],
   "source": [
    "f = @(x) x(:,1).*x(:,2).^2;%cos(2*pi + 5.0*(x(:,1) + x(:,2)));%x(:,1).*exp(x(:,2))./(1 + x(:,3).^2);\n",
    "d = 2; %dimension of the random vector"
   ]
  },
  {
   "cell_type": "markdown",
   "metadata": {},
   "source": [
    "#### Given below is the input for type of orthogonal polynomial basis. Alternatively, use 'Hermite' as the input."
   ]
  },
  {
   "cell_type": "code",
   "execution_count": 24,
   "metadata": {
    "collapsed": true
   },
   "outputs": [],
   "source": [
    "polyBasis = 'Legendre';"
   ]
  },
  {
   "cell_type": "markdown",
   "metadata": {},
   "source": [
    "#### Given below is the following:\n",
    "* #### Generation of various Gaussian-Quadrature nodes and weights.  \n",
    "* #### $\\texttt{setprod}$ function takes in an array of points, dimension 'd' and gives the cartesian product as a matrix of size (Length of input vector^d * d)"
   ]
  },
  {
   "cell_type": "code",
   "execution_count": 25,
   "metadata": {
    "collapsed": true
   },
   "outputs": [],
   "source": [
    "%Quadrature rule to compute the approximated function coefficients\n",
    "q = 50;\n",
    "[xi,w] = gaussQuad(q,polyBasis);\n",
    "eval_pts = setprod(xi,d); %(q^d points)\n",
    "weights = setprod(w,d);\n",
    "\n",
    "%Quadrature rule for the mean square error\n",
    "Q = 70;\n",
    "[xi_mse,w_mse] = gaussQuad(Q,polyBasis);\n",
    "eval_pts_mse = setprod(xi_mse,d); %(Q^d points)\n",
    "weights_mse = setprod(w_mse,d);"
   ]
  },
  {
   "cell_type": "markdown",
   "metadata": {},
   "source": [
    "### The function approximation takes place in the cells below\n",
    "* #### $\\texttt{monomialDegrees}$ function takes in the dimension 'd', 'N' the maximum degree of the polynomial basis and gives a matrix of size (P * d), where $P = {N+d\\choose N}$. This matrix contains all the combinations of $\\mathbf{i} = (i_1,\\ldots,i_d)$ such that $||\\mathbf{i}||_1 \\leq N$ in a graded lexicographing order.\n",
    "* #### In my code the combinations of the multi-index $\\mathbf{i}$ are stored in the variable $\\texttt{lexOrdering}$."
   ]
  },
  {
   "cell_type": "code",
   "execution_count": 26,
   "metadata": {
    "collapsed": true
   },
   "outputs": [],
   "source": [
    "order = [0,1,2,3,4,5,6,7,8]; %maximum degree of the multivariate polynomial\n",
    "MSE = []; %Empty array to store the mean-squared error"
   ]
  },
  {
   "cell_type": "markdown",
   "metadata": {},
   "source": [
    "#### The 'for' loop below is used to obtain approximate functions of different orders\n",
    "* $\\hat{f}_{\\mathbf{i}} \\approx \\frac{1}{\\Pi_{j={i_1}}^{i_d}\\gamma_j}\\sum_{evalPts = 1}^{q^d} \\texttt{legendre}(x_{evalPts}, \\mathbf{i})f(x_{evalPts})\\Pi_{j=1}^dw_{j}^{evalPts}$\n",
    "* $\\texttt{legendre}$ function takes in a set of points as a matrix of size (Number of eval. points \\* d) (generated from the $\\texttt{setprod}$ function) and an array $\\mathbf{i} = (i_1, \\ldots,i_d)$ to give out an array of size (Number of eval. points * 1). The mathematical expression for this function is as follows:  \n",
    "\n",
    "\n",
    "$$\\texttt{legendre}(x,\\mathbf{i}) = \\Pi_{j=1}^d \\phi_{i_j}(x_j),$$\n",
    "where $x \\in \\mathbb{R}^d$. In this case, my function can handle vector values as inputs: $[x_1, x_2, \\ldots], x_i \\in \\mathbb{R}^d$.\n",
    "* The variable $\\texttt{gamma}$ contains the normalization constants of the univariate orthogonal polynomials of degree upto 'N'.\n",
    "* Change the function to $\\texttt{hermite}(x_{evalPts}, \\mathbf{i})$ and set the variable $\\texttt{polyBasis = 'Hermite'}$ above."
   ]
  },
  {
   "cell_type": "code",
   "execution_count": 27,
   "metadata": {},
   "outputs": [
    {
     "name": "stdout",
     "output_type": "stream",
     "text": [
      "\n",
      "MSE =\n",
      "\n",
      "   0.516397779494323\n",
      "   0.344265186329549\n",
      "   0.344265186329549\n",
      "   0.000000000000003\n",
      "   0.000000000000003\n",
      "   0.000000000000003\n",
      "   0.000000000000003\n",
      "   0.000000000000003\n",
      "   0.000000000000004\n",
      "\n"
     ]
    }
   ],
   "source": [
    "for N = order\n",
    "%Generating the various combinations of 'i' = (i_1, i_2, ... i_d)\n",
    "    lexOrdering = monomialDegrees(d,N);\n",
    "%Pre-computing the normalization factors\n",
    "    if strcmp(polyBasis,'Hermite')\n",
    "        gamma = factorial(0:N); %Hermite\n",
    "    else\n",
    "        gamma = 2.0./(2*(0:N) + 1.0); %Legendre\n",
    "    end\n",
    "\n",
    "%Obtaining the number of all the combinations\n",
    "    P = size(lexOrdering,1);\n",
    "\n",
    "%Initialization of arrays for the approximated function\n",
    "    fhat = zeros(P,1);\n",
    "    fapprox = 0;\n",
    "\n",
    "   \n",
    "%The 'for' loop below goes through each of the combinations of 'i'\n",
    "    for i_P = 1:P\n",
    "        fhat(i_P,1) = (sum(legendre(eval_pts,lexOrdering(i_P,:)').*f(eval_pts).*prod(weights,2)))/prod(gamma(lexOrdering(i_P,:)+1));\n",
    "        fapprox = fapprox + fhat(i_P,1)*legendre(eval_pts_mse, lexOrdering(i_P,:)');\n",
    "    end\n",
    "    %Computing the mean squared error\n",
    "    MSE = [MSE;sqrt(sum((fapprox - f(eval_pts_mse)).^2.*prod(weights_mse,2)))];\n",
    "end\n",
    "MSE"
   ]
  },
  {
   "cell_type": "markdown",
   "metadata": {},
   "source": [
    "#### This part is just for visualization, works only for d=2"
   ]
  },
  {
   "cell_type": "code",
   "execution_count": 28,
   "metadata": {
    "collapsed": true
   },
   "outputs": [],
   "source": [
    "% if d == 2\n",
    "%     [x,y] = meshgrid(xi,xi);\n",
    "%     fn = reshape(f(eval_pts),q,q);\n",
    "%     fn_approx = reshape(fapprox,q,q);\n",
    "%     surf(x,y,fn,'FaceColor',[1,0,0]); %Exact function is in red\n",
    "%     hold on;\n",
    "%     surf(x,y,fn_approx,'FaceColor',[0,1,0]); %Approx. function is in green\n",
    "%     lim = 2;\n",
    "%     xlim([-lim,lim]);ylim([-lim,lim]);\n",
    "% end"
   ]
  },
  {
   "cell_type": "code",
   "execution_count": null,
   "metadata": {
    "collapsed": true
   },
   "outputs": [],
   "source": []
  }
 ],
 "metadata": {
  "kernelspec": {
   "display_name": "Matlab",
   "language": "matlab",
   "name": "matlab"
  },
  "language_info": {
   "codemirror_mode": "octave",
   "file_extension": ".m",
   "help_links": [
    {
     "text": "MetaKernel Magics",
     "url": "https://github.com/calysto/metakernel/blob/master/metakernel/magics/README.md"
    }
   ],
   "mimetype": "text/x-octave",
   "name": "matlab",
   "version": "0.16.1"
  }
 },
 "nbformat": 4,
 "nbformat_minor": 2
}
